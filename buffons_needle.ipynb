{
  "nbformat": 4,
  "nbformat_minor": 0,
  "metadata": {
    "colab": {
      "provenance": [],
      "authorship_tag": "ABX9TyP7L+hl553PCb269iKE6gYe",
      "include_colab_link": true
    },
    "kernelspec": {
      "name": "python3",
      "display_name": "Python 3"
    },
    "language_info": {
      "name": "python"
    }
  },
  "cells": [
    {
      "cell_type": "markdown",
      "metadata": {
        "id": "view-in-github",
        "colab_type": "text"
      },
      "source": [
        "<a href=\"https://colab.research.google.com/github/harshit4311/Buffons-Needle-Simulation/blob/main/buffons_needle.ipynb\" target=\"_parent\"><img src=\"https://colab.research.google.com/assets/colab-badge.svg\" alt=\"Open In Colab\"/></a>"
      ]
    },
    {
      "cell_type": "code",
      "execution_count": 15,
      "metadata": {
        "id": "L5VEX7P98JD-"
      },
      "outputs": [],
      "source": [
        "import numpy as np"
      ]
    },
    {
      "cell_type": "code",
      "source": [
        "def buffons_needle(num_trials, needle_len=1.0, line_space=1.0):\n",
        "  hits = 0\n",
        "\n",
        "  for _ in range(num_trials):\n",
        "    center_dist = np.random.uniform(0, line_space/2)\n",
        "    angle_theta = np.random.uniform(0, np.pi/2)\n",
        "\n",
        "    if center_dist <= (needle_len/2) * np.sin(angle_theta):\n",
        "      hits += 1\n",
        "\n",
        "  if hits == 0:\n",
        "    return None\n",
        "\n",
        "  pi_estimate = (2 * needle_len * num_trials) / (hits * line_space)\n",
        "  return pi_estimate"
      ],
      "metadata": {
        "id": "Yz32svnC8NOe"
      },
      "execution_count": 16,
      "outputs": []
    },
    {
      "cell_type": "code",
      "source": [
        "estimated_pi = buffons_needle(num_trials = 1000)\n",
        "print(f\"estimated π ≈ {estimated_pi}\")"
      ],
      "metadata": {
        "colab": {
          "base_uri": "https://localhost:8080/"
        },
        "id": "yyWrR14o885A",
        "outputId": "ad6d7b25-dd8c-4f85-9364-69512a02afa1"
      },
      "execution_count": 17,
      "outputs": [
        {
          "output_type": "stream",
          "name": "stdout",
          "text": [
            "estimated π ≈ 3.1055900621118013\n"
          ]
        }
      ]
    },
    {
      "cell_type": "code",
      "source": [],
      "metadata": {
        "id": "iNowOlzd9VLe"
      },
      "execution_count": 17,
      "outputs": []
    }
  ]
}